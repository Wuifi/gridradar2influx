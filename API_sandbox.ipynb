{
 "cells": [
  {
   "cell_type": "markdown",
   "metadata": {},
   "source": [
    "## Gridradar API\n",
    "https://gridradar.net/de"
   ]
  },
  {
   "cell_type": "code",
   "execution_count": null,
   "metadata": {},
   "outputs": [],
   "source": [
    "#!/usr/bin/python3\n",
    "import requests\n",
    "import json\n",
    "import pprint\n",
    "from lib.gridradar_api import *\n",
    "from lib.basic_functions import *"
   ]
  },
  {
   "cell_type": "code",
   "execution_count": null,
   "metadata": {},
   "outputs": [],
   "source": [
    "import config\n",
    "\n",
    "#Gridradar.net API configuration\n",
    "APItoken = config.APItoken\n",
    "#InfluxDB configuration\n",
    "influx_host =  config.influx_host\n",
    "influx_port = config.influx_port # os.environ.get('INFLUX_PORT')\n",
    "influx_username = config.influx_username\n",
    "influx_password = config.influx_password\n",
    "influx_database = config.influx_database\n",
    "location = config.location \n"
   ]
  },
  {
   "cell_type": "markdown",
   "metadata": {},
   "source": [
    "https://api.gridradar.net/aggr_functions?token=4W01v742EaQ9iZj11B55vjaA4RyOtsNmu6M26EH09mFxlswbOSxA2X9bxuwZOBnpaYXtXyXf+xeQYl2LnQxev35WbGQVruURZteEpe52C0FVv08wXcb9Xm5f6Dvn/L3a\n"
   ]
  },
  {
   "attachments": {},
   "cell_type": "markdown",
   "metadata": {},
   "source": [
    "##  Metrics\n",
    "**KEY**                            DESCRIPTION\\\n",
    "**- frequency**\\\n",
    "PMU selection, frequency 100ms, max period per query 1h\\\n",
    "**- frequency-mean-1m**\\\n",
    "PMU selection, 1m avg., max period per query 30d\\\n",
    "**- frequency-mean-1s**\\\n",
    "PMU selection, 1s avg., max period per query 12h\\\n",
    "**- frequency-ucte-median-1s**\\\n",
    "Median of the pmu 1 second mean frequencies\\\n",
    "**- net-time**\\\n",
    "Network time deviation of the UCTE power grid\\\n",
    "**- phase-angle**\\\n",
    "PMU selection, phase angle 100ms, max period per query 1h\\\n",
    "**- phase-angle-first-1m**\\\n",
    "PMU selection, first val. of minute, max period per query 30d\\\n",
    "**- phase-angle-first-1s**\\\n",
    "PMU selection, first val. of second, max period per query 12h\\\n",
    "\n",
    "\n",
    "columns\t\n",
    "0\t\"function\"\n",
    "1\t\"description\"\n",
    "data\t\n",
    "0\t\n",
    "0\t\"count\"\n",
    "1\t\"number of non-null values\"\n",
    "1\t\n",
    "0\t\"mean\"\n",
    "1\t\"arithmetic average of values\"\n",
    "2\t\n",
    "0\t\"median\"\n",
    "1\t\"middle value of the sorted list of values.\"\n",
    "3\t\n",
    "0\t\"spread\"\n",
    "1\t\"difference between the minimum and maximum values\"\n",
    "4\t\n",
    "0\t\"stddev\"\n",
    "1\t\"the standard deviation of values.\"\n",
    "5\t\n",
    "0\t\"sum\"\n",
    "1\t\"sum of values\"\n",
    "6\t\n",
    "0\t\"difference\"\n",
    "1\t\"difference between subsequent values\"\n",
    "7\t\n",
    "0\t\"min\"\n",
    "1\t\"lowest value\"\n",
    "8\t\n",
    "0\t\"max\"\n",
    "1\t\"greatest value\"\n",
    "9\t\n",
    "0\t\"first\"\n",
    "1\t\"the value with the oldest timestamp\"\n",
    "10\t\n",
    "0\t\"last\"\n",
    "1\t\"the value with the newest timestamp\""
   ]
  },
  {
   "cell_type": "code",
   "execution_count": null,
   "metadata": {},
   "outputs": [],
   "source": [
    "# two different loops:\n",
    "# query high_resolution data with short timerange every 30min\n",
    "# query low_resolution data every 6hrs\n",
    "\n"
   ]
  },
  {
   "attachments": {},
   "cell_type": "markdown",
   "metadata": {},
   "source": [
    "### initialize InfluxDB Handler"
   ]
  },
  {
   "cell_type": "code",
   "execution_count": null,
   "metadata": {},
   "outputs": [],
   "source": [
    "#InfluxDB configuration\n",
    "import influxdb\n",
    "\n",
    "influxdb_client = influxdb.InfluxDBClient(\n",
    "            influx_host,\n",
    "            influx_port,\n",
    "            influx_username,\n",
    "            influx_password,\n",
    "            influx_database, \n",
    "            ssl = False,\n",
    "            verify_ssl = True\n",
    "        )"
   ]
  },
  {
   "attachments": {},
   "cell_type": "markdown",
   "metadata": {},
   "source": [
    "## get data from API with dynamic time ranges"
   ]
  },
  {
   "cell_type": "code",
   "execution_count": null,
   "metadata": {},
   "outputs": [],
   "source": [
    "## Request and header parameters\n",
    "url = 'https://api.gridradar.net/query'\n",
    "token = config.APItoken#'<token>'\n",
    "\n",
    "headers = {\n",
    "    'Content-type': 'application/json', \n",
    "    'Authorization': 'Bearer '+token\n",
    "}\n"
   ]
  },
  {
   "cell_type": "code",
   "execution_count": null,
   "metadata": {},
   "outputs": [],
   "source": [
    "#dict of available metrics\n",
    "metrics_dict = {\n",
    "    \"frequency-ucte-median-1s\":{'account type': 'free', \"aggr\":\"1s\", \"timerange\":24, 'metric_id':1}, #'\"1d\"'\n",
    "    \"net-time\":{'account type': 'free', \"aggr\":\"1s\", \"timerange\":24, 'metric_id':2},           #'\"1d\"'\n",
    "    \"frequency\":{'account type': 'individual', \"aggr\":\"100ms\", \"timerange\":1, 'metric_id':3},        #'\"1h\"'\n",
    "    \"frequency-mean-1m\":{'account type': 'individual', \"aggr\":\"1m\", \"timerange\":720, 'metric_id':4}, #'\"30d\"'\n",
    "    \"frequency-mean-1s\":{'account type': 'individual', \"aggr\":\"1s\", \"timerange\":12, 'metric_id':5},  #'\"12h\"'\n",
    "    \"phase-angle\":{'account type': 'individual', \"aggr\":\"100ms\", \"timerange\":1, 'metric_id':6},      #'\"1h\"'\n",
    "    \"phase-angle-first-1m\":{'account type': 'individual', \"aggr\":\"1m\", \"timerange\":720, 'metric_id':7}, #'\"30d\"'\n",
    "    \"phase-angle-first-1m\":{'account type': 'individual', \"aggr\":\"1s\", \"timerange\":12, 'metric_id':8} #'\"12h\"'\n",
    "}\n",
    "\n",
    "#metric = \"frequency\"\n",
    "#settings = metrics_dict[metric]\n",
    "#aggr = settings['aggr']\n",
    "#timerange = settings['timerange']\n",
    "#account_type = settings['account type']\n",
    "#account_type\n"
   ]
  },
  {
   "cell_type": "code",
   "execution_count": null,
   "metadata": {},
   "outputs": [],
   "source": [
    "for metric, settings in metrics_dict.items():\n",
    "    ## define API query parameters\n",
    "    if (settings['account type']=='individual'):\n",
    "        request = metric_request_individualAPI(metric,metrics_dict,location)\n",
    "    else:\n",
    "        request = metric_request_freeAPI(metric,metrics_dict) \n",
    "    query_timer=0\n",
    "    start = int(datetime.utcnow().timestamp() * 1000)          \n",
    "    response = getdatafromapi(url,token,request)\n",
    "    #print(response.status_code)  \n",
    "    query_timer = int(datetime.utcnow().timestamp() * 1000) - start\n",
    "    \n",
    "    # ## Converting the JSON response string to a Python dictionary\n",
    "    \n",
    "    response_dict=None\n",
    "    if response.status_code ==200:\n",
    "        logging.info(\"gridradar-API - response for metric: %s, %s\", metric,response.status_code)\n",
    "        \n",
    "        start = int(datetime.utcnow().timestamp() * 1000)\n",
    "        response_dict = json.loads(response.content)\n",
    "        out_influxDB = convert_dataset(metric,response_dict,location)\n",
    "        ## Pretty print response dictionary\n",
    "        #pprint.pprint(response_dict)\n",
    "        influxdb_client.write_points(out_influxDB,database= influx_database,\n",
    "                                    time_precision=\"ms\",\n",
    "                                    batch_size=10000,\n",
    "                                    protocol='json')\n",
    "        influxdb_timer = int(datetime.utcnow().timestamp() * 1000) - start   \n",
    "        print('processing successfull: ', metric,response.status_code)\n",
    "    else:\n",
    "        logging.error(\"gridradar-API - response for metric: %s, %s\", metric,response.status_code)\n",
    "        print('processing failed: : ', metric,response.status_code)\n",
    "        pprint.pprint(request)\n",
    "        \n",
    "\n",
    "    out_influxDB_APIdebug = gridradar_API_monitor(metric,response,location,query_timer,influxdb_timer)\n",
    "    influxdb_client.write_points(out_influxDB_APIdebug,database= influx_database,\n",
    "                                    time_precision=\"ms\",\n",
    "                                    batch_size=10000,\n",
    "                                    protocol='json')\n",
    "    "
   ]
  }
 ],
 "metadata": {
  "kernelspec": {
   "display_name": "Python 3.8.8 ('base')",
   "language": "python",
   "name": "python3"
  },
  "language_info": {
   "codemirror_mode": {
    "name": "ipython",
    "version": 3
   },
   "file_extension": ".py",
   "mimetype": "text/x-python",
   "name": "python",
   "nbconvert_exporter": "python",
   "pygments_lexer": "ipython3",
   "version": "3.8.8"
  },
  "orig_nbformat": 4,
  "vscode": {
   "interpreter": {
    "hash": "ad2bdc8ecc057115af97d19610ffacc2b4e99fae6737bb82f5d7fb13d2f2c186"
   }
  }
 },
 "nbformat": 4,
 "nbformat_minor": 2
}
